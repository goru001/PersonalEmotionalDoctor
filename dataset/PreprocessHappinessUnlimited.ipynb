{
 "cells": [
  {
   "cell_type": "code",
   "execution_count": 1,
   "metadata": {},
   "outputs": [],
   "source": [
    "from pathlib import Path"
   ]
  },
  {
   "cell_type": "code",
   "execution_count": 2,
   "metadata": {},
   "outputs": [],
   "source": [
    "content = []"
   ]
  },
  {
   "cell_type": "code",
   "execution_count": 17,
   "metadata": {},
   "outputs": [],
   "source": [
    "for p in range(3,163):\n",
    "    if p in [55,56]:\n",
    "        continue\n",
    "    q = Path(f'Happiness Unlimited data/{p}.txt')\n",
    "    with q.open() as f:\n",
    "        content.append(f.readlines())"
   ]
  },
  {
   "cell_type": "code",
   "execution_count": 19,
   "metadata": {},
   "outputs": [
    {
     "data": {
      "text/plain": [
       "158"
      ]
     },
     "execution_count": 19,
     "metadata": {},
     "output_type": "execute_result"
    }
   ],
   "source": [
    "# Array of arrays, where each array is a page\n",
    "len(content)"
   ]
  },
  {
   "cell_type": "code",
   "execution_count": 26,
   "metadata": {},
   "outputs": [],
   "source": [
    "pageText = []\n",
    "for arr in content:\n",
    "    text = ''\n",
    "    for line in arr:\n",
    "        text = text + line\n",
    "    pageText.append(text)"
   ]
  },
  {
   "cell_type": "code",
   "execution_count": 38,
   "metadata": {},
   "outputs": [
    {
     "name": "stdout",
     "output_type": "stream",
     "text": [
      "so fast that we feel even the words are automated, and we say\n",
      "I didn't mean to say that. So, a step further will be to become\n",
      "aware of what I am thinking, to choose our thoughts and\n",
      "thereby choose our responses. It's a simple exercise we begin\n",
      "every morning and can do it any time during the day - just\n",
      "watch your thoughts.\n",
      "Relax and reflect on these thoughts:\n",
      "What am I thinking right now: it could be about work, about\n",
      "family, about friends, about myself. Let me look at my thoughts\n",
      "look at myself during the whole day: driving to work, reaching\n",
      "my desk, interacting with people I am doing everything but\n",
      "I am choosing what to do and I am choosing how to be while\n",
      "I am doing it I have a choice how to feel while I am doing\n",
      "everything I am doing outside.... Situations, targets, goals,\n",
      "people - they are all external.... Let me look at myself how l\n",
      "think, how I feel, and then how I respond... I's my choice\n",
      "I am the creator of my response. Om Shanti!\n",
      "MANTRAS FOR HAPPINESS UNLIMITED\n",
      "Happiness is not dependent on physical objects.\n",
      ".\n",
      ": Objects, possessions, gadgets, etc, are designed to give\n",
      "us comfort.\n",
      "Physical comfort is different from emotional comfort.\n",
      "Happiness is our internal creation and can be created\n",
      "irrespective of external comforts\n",
      "\n"
     ]
    },
    {
     "data": {
      "text/plain": [
       "[None]"
      ]
     },
     "execution_count": 38,
     "metadata": {},
     "output_type": "execute_result"
    }
   ],
   "source": [
    "[print(x) for x in pageText[12:13]]"
   ]
  },
  {
   "cell_type": "code",
   "execution_count": 40,
   "metadata": {},
   "outputs": [
    {
     "name": "stdout",
     "output_type": "stream",
     "text": [
      "SO: No, there is pain now\n",
      "SS: Naturally it's to going to be a little uncomfortable. However\n",
      "I say this is okay, or even accept it as a natural part of ageing.\n",
      "I keep walking and because I am not treating it or taking care\n",
      "of it, the pain is constantly there and at times it is aggravated.\n",
      "I am still managing my life, though. Now, suddenly I have to\n",
      "run because of some reason. Will I be able to run with that\n",
      "pain? I will not be able to. It's the same with stress. Stress\n",
      "is in my mind; it is a little pain in the way I feel. How do I\n",
      "feel when I experience stress? Even if I am not able to check\n",
      "myself at the emotional level, let's just check the physical or\n",
      "bodily parameters my heartbeat increases and so does my\n",
      "pulse rate, at times my mouth goes dry, I start getting a very\n",
      "uncomfortable feeling in the stomach, my head feels heavy, and so on. This is when the effect of the mind has already taken a\n",
      "toll on the body, and it is a much later stage. Some students\n",
      "fall ill on the day of their exams, with fever or nausea. Some\n",
      "people start sweating or their mouth goes dry before a public\n",
      "speech. This is the effect of the mind on the body.\n",
      "SO: But I thought it was normal. The first time I was facing\n",
      "a camera, my mouth and lips had all gone dry.\n",
      "SS: Did you perform better?\n",
      "SO: No, it was very bad.\n",
      "SS:\n",
      "Lets say a child has to sit for an exam. Exam is a target and\n",
      "a pressure. If he creates anxiety, does he perform better?\n",
      "I remember when we used to give our exams and come back\n",
      "and evaluate our own performance, we would point out places\n",
      "where we knew the answer but made mistakes. We referred to\n",
      "\n"
     ]
    }
   ],
   "source": [
    "print(pageText[28])"
   ]
  },
  {
   "cell_type": "code",
   "execution_count": 41,
   "metadata": {},
   "outputs": [],
   "source": [
    "fullText = ''\n",
    "for text in pageText:\n",
    "    fullText += text"
   ]
  },
  {
   "cell_type": "code",
   "execution_count": 3,
   "metadata": {},
   "outputs": [
    {
     "ename": "NameError",
     "evalue": "name 'fullText' is not defined",
     "output_type": "error",
     "traceback": [
      "\u001b[0;31m---------------------------------------------------------------------------\u001b[0m",
      "\u001b[0;31mNameError\u001b[0m                                 Traceback (most recent call last)",
      "\u001b[0;32m<ipython-input-3-677c205b75c5>\u001b[0m in \u001b[0;36m<module>\u001b[0;34m()\u001b[0m\n\u001b[1;32m      1\u001b[0m \u001b[0;32mwith\u001b[0m \u001b[0mopen\u001b[0m\u001b[0;34m(\u001b[0m\u001b[0;34m'fullHappinessUnlimited.txt'\u001b[0m\u001b[0;34m,\u001b[0m \u001b[0;34m'w'\u001b[0m\u001b[0;34m)\u001b[0m \u001b[0;32mas\u001b[0m \u001b[0mf\u001b[0m\u001b[0;34m:\u001b[0m\u001b[0;34m\u001b[0m\u001b[0;34m\u001b[0m\u001b[0m\n\u001b[0;32m----> 2\u001b[0;31m     \u001b[0mf\u001b[0m\u001b[0;34m.\u001b[0m\u001b[0mwrite\u001b[0m\u001b[0;34m(\u001b[0m\u001b[0mfullText\u001b[0m\u001b[0;34m)\u001b[0m\u001b[0;34m\u001b[0m\u001b[0;34m\u001b[0m\u001b[0m\n\u001b[0m",
      "\u001b[0;31mNameError\u001b[0m: name 'fullText' is not defined"
     ]
    }
   ],
   "source": [
    "with open('fullHappinessUnlimited.txt', 'w') as f:\n",
    "    f.write(fullText)"
   ]
  },
  {
   "cell_type": "code",
   "execution_count": 45,
   "metadata": {},
   "outputs": [],
   "source": [
    "temp = pageText[28]"
   ]
  },
  {
   "cell_type": "code",
   "execution_count": 47,
   "metadata": {},
   "outputs": [
    {
     "name": "stdout",
     "output_type": "stream",
     "text": [
      "SO: No, there is pain now\n",
      "SS: Naturally it's to going to be a little uncomfortable. However\n",
      "I say this is okay, or even accept it as a natural part of ageing.\n",
      "I keep walking and because I am not treating it or taking care\n",
      "of it, the pain is constantly there and at times it is aggravated.\n",
      "I am still managing my life, though. Now, suddenly I have to\n",
      "run because of some reason. Will I be able to run with that\n",
      "pain? I will not be able to. It's the same with stress. Stress\n",
      "is in my mind; it is a little pain in the way I feel. How do I\n",
      "feel when I experience stress? Even if I am not able to check\n",
      "myself at the emotional level, let's just check the physical or\n",
      "bodily parameters my heartbeat increases and so does my\n",
      "pulse rate, at times my mouth goes dry, I start getting a very\n",
      "uncomfortable feeling in the stomach, my head feels heavy, and so on. This is when the effect of the mind has already taken a\n",
      "toll on the body, and it is a much later stage. Some students\n",
      "fall ill on the day of their exams, with fever or nausea. Some\n",
      "people start sweating or their mouth goes dry before a public\n",
      "speech. This is the effect of the mind on the body.\n",
      "SO: But I thought it was normal. The first time I was facing\n",
      "a camera, my mouth and lips had all gone dry.\n",
      "SS: Did you perform better?\n",
      "SO: No, it was very bad.\n",
      "SS:\n",
      "Lets say a child has to sit for an exam. Exam is a target and\n",
      "a pressure. If he creates anxiety, does he perform better?\n",
      "I remember when we used to give our exams and come back\n",
      "and evaluate our own performance, we would point out places\n",
      "where we knew the answer but made mistakes. We referred to\n",
      "\n"
     ]
    }
   ],
   "source": [
    "print(temp)"
   ]
  },
  {
   "cell_type": "code",
   "execution_count": 48,
   "metadata": {},
   "outputs": [],
   "source": [
    "import re"
   ]
  },
  {
   "cell_type": "code",
   "execution_count": 54,
   "metadata": {},
   "outputs": [
    {
     "data": {
      "text/plain": [
       "[]"
      ]
     },
     "execution_count": 54,
     "metadata": {},
     "output_type": "execute_result"
    }
   ],
   "source": [
    "re.findall(r'SO: (.*?)SS: ', temp)"
   ]
  },
  {
   "cell_type": "code",
   "execution_count": 4,
   "metadata": {},
   "outputs": [],
   "source": [
    "with open('chapters/chap2.txt', 'r') as f:\n",
    "    temp = f.readlines()"
   ]
  },
  {
   "cell_type": "code",
   "execution_count": 5,
   "metadata": {},
   "outputs": [],
   "source": [
    "temp = ' '.join(temp)"
   ]
  },
  {
   "cell_type": "code",
   "execution_count": 6,
   "metadata": {},
   "outputs": [],
   "source": [
    "conversation = []"
   ]
  },
  {
   "cell_type": "code",
   "execution_count": 7,
   "metadata": {},
   "outputs": [],
   "source": [
    "beg = 0\n",
    "while beg < len(temp):\n",
    "    conversation.append(temp[temp.find('SO:', beg):temp.find('SS:', beg)])\n",
    "    conversation.append(temp[temp.find('SS:', beg):temp.find('SO:', temp.find('SS:', beg)+1)])\n",
    "    beg = temp.find('SS:', beg) + 1\n",
    "    if beg == 0:\n",
    "        break"
   ]
  },
  {
   "cell_type": "code",
   "execution_count": 8,
   "metadata": {},
   "outputs": [
    {
     "name": "stdout",
     "output_type": "stream",
     "text": [
      "SO: You say it is 'I' who create happiness, I\n",
      " who create sadness. It's finally I who is responsible. Yet\n",
      " it's very difficult to be happy when you have not achieved\n",
      " something in life.\n",
      " \n"
     ]
    }
   ],
   "source": [
    "print(temp[temp.find('SO:', beg):temp.find('SS:', beg)])\n",
    "beg = temp.find('SS:', beg) + 1"
   ]
  },
  {
   "cell_type": "code",
   "execution_count": 9,
   "metadata": {},
   "outputs": [],
   "source": [
    "beg = 0"
   ]
  },
  {
   "cell_type": "code",
   "execution_count": 10,
   "metadata": {},
   "outputs": [
    {
     "data": {
      "text/plain": [
       "0"
      ]
     },
     "execution_count": 10,
     "metadata": {},
     "output_type": "execute_result"
    }
   ],
   "source": [
    "beg"
   ]
  },
  {
   "cell_type": "code",
   "execution_count": 11,
   "metadata": {},
   "outputs": [
    {
     "data": {
      "text/plain": [
       "60"
      ]
     },
     "execution_count": 11,
     "metadata": {},
     "output_type": "execute_result"
    }
   ],
   "source": [
    "len(conversation)"
   ]
  },
  {
   "cell_type": "code",
   "execution_count": 16,
   "metadata": {},
   "outputs": [
    {
     "data": {
      "text/plain": [
       "\"SO: That's how many of us think that we have to reach our\\n destination by hook or by crook.\\n \""
      ]
     },
     "execution_count": 16,
     "metadata": {},
     "output_type": "execute_result"
    }
   ],
   "source": [
    "conversation[2]"
   ]
  },
  {
   "cell_type": "code",
   "execution_count": 25,
   "metadata": {},
   "outputs": [],
   "source": [
    "def conv_array(chapter):\n",
    "    with open(f'chapters/{chapter}.txt', 'r') as f:\n",
    "        temp = f.readlines()\n",
    "    temp = ' '.join(temp)\n",
    "    conversation = []\n",
    "    beg = 0\n",
    "    while beg < len(temp):\n",
    "        conversation.append(temp[temp.find('SO:', beg):temp.find('SS:', beg)])\n",
    "        conversation.append(temp[temp.find('SS:', beg):temp.find('SO:', temp.find('SS:', beg)+1)])\n",
    "        beg = temp.find('SS:', beg) + 1\n",
    "        if beg == 0:\n",
    "            break\n",
    "    while '' in conversation:\n",
    "        conversation.remove('')\n",
    "    return conversation"
   ]
  },
  {
   "cell_type": "code",
   "execution_count": 26,
   "metadata": {},
   "outputs": [],
   "source": [
    "all_conversations = []\n",
    "for i in range(1,14):\n",
    "    all_conversations.append(conv_array(f'chap{i}'))"
   ]
  },
  {
   "cell_type": "code",
   "execution_count": 76,
   "metadata": {},
   "outputs": [
    {
     "data": {
      "text/plain": [
       "[\"SO: You say it is 'I' who create happiness, I\\n who create sadness. It's finally I who is responsible. Yet\\n it's very difficult to be happy when you have not achieved\\n something in life.\\n \",\n",
       " \"SS: There are two dynamics here: one, if I achieve this then\\n I will be happy, and another, I will be happy while achieving\\n this. Its like we are on a journey, say from X to Y, and Y is\\n the destination whether we are going by road, by train, or\\n by air. When we start on the journey, others wish us a safe\\n journey, not 'reach your destination anyways. It's not only\\n reaching the destination that matters, it's the quality of the\\n journey that counts.\\n \",\n",
       " \"SO: That's how many of us think that we have to reach our\\n destination by hook or by crook.\\n \",\n",
       " \"SS: Okay, let's look at it this way. I have set a goal for myself,\\n whether it's for marks as a student, for a professional position\\n in my organization, or it could be in my relationships. In an\\n case, we are not going to be able to lead our lives without\\n goals, because without goals we will become passive. I wouldn't\\n know where I am heading. Now, the other thing that I do is\\n tell myself that I will be happy when I reach the goal.\\n goal may take six months or six years. So I start moving to\\n say, reach this particular position in my organization in the\\n coming two years. Now I start my journey. It is about the\\n way I work, the way I am with my colleagues, the way I am\\n performing. Continuously, at the back of my mind I believe\\n that when I reach there I will be happy. Now if there is a\\n little lapse in the way I am working, if people around me are\\n uncooperative, if there are certain obstacles coming in the\\n way, what will happen to me?\\n \",\n",
       " 'SO: I will not be happy.\\n ',\n",
       " \"SS: Because I will create stress, I will create anxiety. Why?\\n Because people are coming in the way of my happiness. I see\\n them as obstacles not just in my goal, but also in my happiness\\n Now suppose that I am going to walk from here to there and\\n my mind says happiness is there. I start walking. While I am\\n walking you are in the way, and because you are in the way\\n I see you as someone in the way of my happiness. I will do\\n anything to get you out of the way. If you are just a junior\\n I will shout at you and order you to work fast. If you are a\\n colleague and I think you are a threat to me in my reaching\\n the goal, I can plot anything against you to get you out of the\\n way. I may even compromise on my values. Suppose during\\n my journey you tell me that if I am honest I'll have to stop\\n here for one week, but if I tell a lie I can go there faster. Now,\\n many of us wouldn't even think twice before using the other\\n method. I might end up telling a lie and that's where I will\\n compromise on my values and principles during my journey.I\\n have begun to think that my values and principles are delaying\\n my process of attaining my happiness.\\n \",\n",
       " 'SO: But if you are going to get happiness, how does it matter\\n if you were to lie?\\n ',\n",
       " \"SS: At this moment we are still on the journey; we haven't\\n reached the destination yet. While on the journey, I am creating\\n anger and stress, and I am compromising on my values and\\n principles. So, I am creating negative emotions in the course of\\n my journey. For six months I create anxiety and stress, which\\n in turn can disturb my relationships and create issues with\\n people at work. My inner state of mind will be in an upheaval,\\n and eventually it will start affecting my physical health. Finally\\n after six months when I reach my goal, how will I feel?\\n \",\n",
       " \"SO: Don't you think you will be happy?\\n \",\n",
       " \"SS: If I have created all these negative emotions on the way I\\n have experienced and have also transmitted the same emotions\\n to everyone around me; all this happened on the journey. It's\\n like I have fallen down, hurt myself, and then reached there\\n By the time I reached there, I am totally in pain. But because\\n I have reached there I am very happy. Now my conditioning\\n says happiness is dependent on achievement\\n \",\n",
       " \"SO: You want to achieve further. The driving force becomes\\n achieve-achieve-achieve,' and you are caught up in its pursuit,\\n You go home and say oh, I'm so sorry I have been behaving\\n like this, coming home late at night, troubling you, but I\\n have to achieve the target?\\n \",\n",
       " 'SS: So, if for example you set a six-month goal, for the whole\\n of six months you are allowing yourself to get bruised and\\n hurt emotionally\\n ',\n",
       " 'SO: This means we are not just postponing happiness, we\\n are actually creating unhappiness all the way. And this is\\n going to multiply.\\n ',\n",
       " 'SS: Exactly. In the first six months, to reach (A) I was bruised\\n because I created negative emotions around me, hurt people, lost\\n my temper, whatever. By the time I reach (A), my emotional\\n strength has already become weaker. During the next journey\\n from (A) to (B), my strength is already weakened. It is the\\n same environment, the same people, the same situations, but\\n the weak emotional strength means I am going to get bruised\\n further.\\n ',\n",
       " 'SO: Is it emotional strength?\\n ',\n",
       " 'SS: My power to face situations. I will get hurt more easily,I\\n will react, I will get irritated.\\n ',\n",
       " \"SO: Don't you think all these things also make you physically\\n weak?\\n \",\n",
       " \"SS: It's going to have an effect on the body, but when we are\\n young we don't feel the impact. So we think it is absolutely\\n fine, this is natural, this is the way to live. It's only later that we\\n start showing symptoms of hypertension, diabetes and similar\\n troubles. Since we accept stress as a part of our lives we also\\n accept the physical symptoms as inevitable.\\n \",\n",
       " \"SO: I still can't understand how someone can be happy\\n without achieving his goal. He comes home as a failure, and\\n with so many problems\\n \",\n",
       " \"SS: Let's say I am looking for a job and I have been trying\\n for the last six months. I am not getting a job and I am very\\n demotivated and upset. As a friend, what would you say to me?\\n \",\n",
       " \"SO: Don't worry, it happens. One day you will get it.\\n Meanwhile please let me know if I can be of help.\\n \",\n",
       " \"SS: If I say how can I not be worried, I haven't got a job for\\n the last six months, what are you going to say to me?\\n \",\n",
       " 'SO: By worrying will you get it?\\n ',\n",
       " 'SS: So just lets say this to ourselves: by worrying will l get it\\n ',\n",
       " 'SO: That is very easily said\\n ',\n",
       " \"SS: But that's the solution. The more I worry, the weaker my\\n mind becomes; it starts to show in my body language; I lose\\n my enthusiasm and I get thoughts like how will I get a job? To\\n get a job I need confidence, I need to be enthusiastic, I need\\n to be ready to face the challenges the new job offers. It's not\\n about what has happened, it's about what I need to do now\\n how does my state of being have to be. I have to take care\\n of that, else I am trapped in the vicious cycle of negativity.\\n Who is going to employ a person who is demotivated and has\\n given up on life? Who do you think will hire a person who\\n has lost his internal strength and tolerance, who is unable to\\n get along with people, and is not able to create team spirit?\\n Who is going to hire a candidate like that? So, whatever the\\n situation may be and however challenging it may be, I am\\n not going to get the solution unless I take care of myself\\n My business is not doing well and so it is natural for me to\\n worry, but if I worry I will still not be able to do well. If I\\n want to do well outside, I will have to be well within. But\\n what is most important is: even if I don't do well, at least I\\n can take care of myself.\\n \",\n",
       " 'SO: I had a guru who told me about a man who was\\n undergoing a prolonged struggle due to a court case. At the\\n same time he was also worried about his wife, who was very\\n sick. Finally, after about 15 years he won the court case and\\n his wife too recovered. But then he himself fell sick and died.\\n Despite knowing of this humbling tale, why is it so difficult\\n for me to understand what you are telling me right now?\\n ',\n",
       " \"SS: It's about priorities in life. What are my responsibilities in\\n life? Normally I will count my family, my job, my work, my\\n home, my friends, my relatives, my society, my relationships,\\n my country..\\n We can take responsibility of our family and move on to\\n the entire world, but not our own responsibility. Let's say we\\n are a family of five and four of them are not well. I want to\\n take the responsibility of taking care of them, of healing them,\\n but I will only be able to do that if I am healthy myself. This\\n is about physical health. Now you apply the same equation\\n to emotional health; I want to take care of my children, my\\n wife, my husband, my parents; I want to ensure that they are\\n happy.. but I am in pain.\\n \",\n",
       " 'SO: I even get sad when they are not able to do well in class.\\n I wanted them to become swimming champions, tennis\\n players, and so on.\\n ',\n",
       " 'SS: Why do you want to do all that? just so that they will be\\n happy! Finally, I want everyone around me to be happy.\\n ',\n",
       " 'SO: And if they are happy, I will be happy.\\n ',\n",
       " 'SS: I thought I would take care of everything and then they\\n will be happy; and when they are happy, then I will be happy.\\n Spirituality teaches us that when I am happy and I am able to\\n take care of them, then they will also be happy.\\n ',\n",
       " 'SO: So when I am happy, I am also spreading my happy\\n emotions around. Wherever I go I am alive with happiness\\n and I make other people happy too.\\n ',\n",
       " \"SS: Because you make them stronger. Let's see, what is happiness?\\n Happiness is an internal strength. It does not mean excitement,\\n I am not going to be jumping and dancing the whole day. I\\n have lost my job and I am not excited about it.\\n \",\n",
       " 'SO: Happiness is strength I am not able to understand this.\\n ',\n",
       " \"SS: See, at any given point in time, there can only be one\\n thought in the mind. One thought possesses one quality. That\\n one quality could be either the right quality or the not-so-right\\n quality. If I am creating a pure, powerful and positive thought,\\n then it is the right quality. If I am creating a negative thought,\\n an unpleasant thought, a thought of anxiety, pain and worry\\n its a wrong thought. If it's the right thought I feel good; if it's\\n not the right thought I feel low. If it's the right thought, then\\n I feel good and that is stability. If it is not the right thought,\\n I feel low and that is weakness\\n \",\n",
       " 'SO: So, stability is strength.\\n ',\n",
       " 'SS: If you are stable, you are strong. This strength will then\\n shape the way you respond to situations. Like, you said, I want\\n my child to have good marks. Okay, I want my child to have\\n good marks but it is not necessary that this will happen every\\n time. When he fails to get the marks I expect him to get or\\n the marks he is capable of getting, what is my state of mind? I\\n am upset. Is that good for me? No. Is that good for my child?\\n No. Then why am I creating it? The marks did not create my\\n feelings, rather I was the creator of what I felt.\\n ',\n",
       " 'SO: But I would have thought it was just normal to be upset\\n and feel sad.\\n ',\n",
       " \"SS: Once I get upset, my child also gets upset. My child gets\\n demotivated and I expect him to do well in that demotivated\\n state of mind. The energy that i am giving to those around\\n me is not positive, and that's why I am not fulfilling my\\n responsibility in the right way. When my child gets less marks,\\n my responsibility should be to first take charge of my mind\\n I have to remain composed so that I don't react immediately\\n by shouting at him. Next, my responsibility is to take care of\\n his state of mind, and finally I carefully explain to him that he\\n needs to study responsibly and get good marks the next time.\\n \",\n",
       " \"SO: So what we usually end up offering our child is the\\n opposite. We deplete his energy, lower his self-esteem, an\\n make him feel small. I think that's why suicides among\\n children are prevalent today.\\n \",\n",
       " \"SS: A big reason why a child commits suicide is that he is not\\n able to face his parents after the failure. It is not because he\\n failed; it is because he doesn't want to see his parents unhappy\\n and he holds himself responsible for their unhappiness. The\\n parents had conditioned and pressured him throughout the \\n year that they would be happy only when he succeeded\\n \",\n",
       " 'SO: I thought it was my responsibility to see to it that my child\\n achieved his goal - whether in studies, sports, or whatever\\n else. I realize that I have been doing just the opposite.\\n ',\n",
       " \"SS: Every individual's life is based on four aspects: physical\\n intellectual, emotional and spiritual. It is about my physical\\n health, my intellectual development, my emotional state of\\n being and my spiritual health. If I want to be successful in life\\n and if I want my children to be successful in life - successful\\n in the whole sense, then all the four aspects need to be equally\\n balanced. When I consider my responsibilities toward my child, I\\n take into account his academic performance and extracurricular\\n performance, and I take care of his physical health. My child\\n should get the best home, the best food, the best exercise and\\n so on. With regard to his social well-being, I want him to have\\n good friends and indulge in extracurricular activities. But how\\n is my child feeling inside? We are not really considering and\\n taking care of that aspect. Physically and academically he may\\n be doing very well, but the constant pressure, the constant\\n comparison with other people, and the constant criticism that\\n he gets from his parents are actually depleting his emotional\\n strength. So I have to ask myself whether I am fulfilling my\\n responsibility. Tomorrow he could grow up to be a good doctor\\n or a senior lawyer, and be physically very strong, but if he is\\n emotionally not strong, will he be a good human being? And\\n if he is not a good human being, a pure and powerful being\\n will he really be happy?\\n \",\n",
       " 'SO: What happens if he is emotionally not very strong?\\n ',\n",
       " 'SS: If I am a good doctor, technically I am good. But if I am not emotionally strong, then I will get irritated very easily, I\\n will react easily,I will not empathize with my patients and\\n my colleagues. I will not get along with people because I am\\n intolerant. Can I stil call myself a good doctor?\\n While we were growing up they only taught us how to read,\\n how to write, how to speak. No one taught us how to think.\\n ',\n",
       " \"SO: But that's what happens. We knew only\\n about IQ; EQ came into the picture much later.\\n \",\n",
       " 'SS: There is no doubt that your IQ is important, but so is your\\n emotional strength. The emotionally strong person can handle\\n all struggles and challenges of life. With a strong IQ we need\\n emotional strength to achieve success.\\n ',\n",
       " 'SO: When I was, growing up I remember that, adults often\\n slapped children to teach them, even at schools. If they scored\\n less marks, they felt scared to share those marks at home.\\n ',\n",
       " 'SS: Right. So we need to ask ourselves whether we are fulfilling\\n all our responsibilities suitably. It is not enough to fulfil one\\n responsibility by getting them to perform well. What about\\n my second responsibility of making the child a strong human\\n being? Life is going to present a lot of challenges. Today your\\n child has passed with the highest marks and come first in\\n class, but will his marks help him face all the challenges in life?\\n ',\n",
       " 'SO: Maybe emotionally he is so weak that he will not be\\n able to compete with other things in life.\\n ',\n",
       " 'SS: Exactly. If he has to face even a small failure, he will not\\n be able to cope up. What if he has to work with people with\\n whom he cannot adjust? We did not take care of that aspect.\\n Why? The prime reason is that we had not taken care of that\\n aspect in our own lives. We ignored the importance of being\\n emotionally healthy. We thought our responsibility is to take\\n care of everything external, whether in our lives or the lives\\n of those for whom we were responsible.\\n ',\n",
       " 'SO: Most men feel that their responsibility is to earn money\\n and when they do that their job is done.\\n ',\n",
       " 'SS: The husband feels he has fulfilled all the needs of the family\\n Now if he has given them all of this, then they should be happy\\n because happiness is supposed to be coming from outside.\\n ',\n",
       " \"SO: We give them good toys, good clothes, good food, etc.,\\n we have done our duty. Now if they don't study, that's their\\n problem. We easily put it to sanskaras, their school, or peer\\n pressure. We keep on blaming other people.\\n \",\n",
       " \"SS: Because you are not ready to take that responsibility. It's easy\\n to earn and to send your child to the best school, to give him\\n the best food and the best home, and the best of everything,\\n but it's a huge challenge to make your child emotionally strong.\\n \",\n",
       " 'SO: The most important thing I have to realise is that first I\\n have to be emotionally strong.\\n ',\n",
       " \"SS: So it's time to do that now. While taking care of our\\n children we always need to remember, we can send our child\\n to the best school without having gone to school ourselves.\\n We can ensure that our children eat well, even if we sleep\\n empty stomach. But it is not possible to make our children\\n happy without being happy ourselves. You cannot make your\\n child emotionally strong without being emotionally strong\\n yourself, so that's where the responsibility comes to find it\\n first in yourself.\"]"
      ]
     },
     "execution_count": 76,
     "metadata": {},
     "output_type": "execute_result"
    }
   ],
   "source": [
    "all_conversations[1]"
   ]
  },
  {
   "cell_type": "code",
   "execution_count": 65,
   "metadata": {},
   "outputs": [
    {
     "data": {
      "text/plain": [
       "[32,\n",
       " 32,\n",
       " 32,\n",
       " 32,\n",
       " 32,\n",
       " 32,\n",
       " 32,\n",
       " 32,\n",
       " 32,\n",
       " 32,\n",
       " 32,\n",
       " 32,\n",
       " 32,\n",
       " 32,\n",
       " 32,\n",
       " 32,\n",
       " 32,\n",
       " 32,\n",
       " 32,\n",
       " 32,\n",
       " 32,\n",
       " 32,\n",
       " 32,\n",
       " 32,\n",
       " 32,\n",
       " 32,\n",
       " 32,\n",
       " 32,\n",
       " 32,\n",
       " 32,\n",
       " 32,\n",
       " 32]"
      ]
     },
     "execution_count": 65,
     "metadata": {},
     "output_type": "execute_result"
    }
   ],
   "source": [
    "[len(all_conversations[10])]*len(all_conversations[10])"
   ]
  },
  {
   "cell_type": "code",
   "execution_count": 30,
   "metadata": {},
   "outputs": [
    {
     "name": "stdout",
     "output_type": "stream",
     "text": [
      "64\n",
      "58\n",
      "44\n",
      "60\n",
      "62\n",
      "50\n",
      "42\n",
      "42\n",
      "56\n",
      "40\n",
      "32\n",
      "48\n",
      "46\n"
     ]
    }
   ],
   "source": [
    "for i in range(len(all_conversations)):\n",
    "    print(len(all_conversations[i]))"
   ]
  },
  {
   "cell_type": "code",
   "execution_count": 68,
   "metadata": {},
   "outputs": [],
   "source": [
    "chapter_per_conversation = []\n",
    "for i in range(len(all_conversations)):\n",
    "    chapter_per_conversation.extend([i+1]*len(all_conversations[i]))"
   ]
  },
  {
   "cell_type": "code",
   "execution_count": 70,
   "metadata": {},
   "outputs": [
    {
     "data": {
      "text/plain": [
       "644"
      ]
     },
     "execution_count": 70,
     "metadata": {},
     "output_type": "execute_result"
    }
   ],
   "source": [
    "len(chapter_per_conversation)"
   ]
  },
  {
   "cell_type": "code",
   "execution_count": 32,
   "metadata": {},
   "outputs": [],
   "source": [
    "import pickle\n",
    "with open('all_conversations.pkl', 'wb') as f:\n",
    "    pickle.dump(all_conversations, f)"
   ]
  },
  {
   "cell_type": "code",
   "execution_count": 33,
   "metadata": {},
   "outputs": [],
   "source": [
    "with open('all_conversations.pkl', 'rb') as f:\n",
    "    all_conversations = pickle.load(f)"
   ]
  },
  {
   "cell_type": "code",
   "execution_count": 34,
   "metadata": {},
   "outputs": [],
   "source": [
    "all_conversations_flattened = []\n",
    "for conversation in all_conversations:\n",
    "    all_conversations_flattened.extend(conversation)"
   ]
  },
  {
   "cell_type": "code",
   "execution_count": 35,
   "metadata": {},
   "outputs": [
    {
     "data": {
      "text/plain": [
       "644"
      ]
     },
     "execution_count": 35,
     "metadata": {},
     "output_type": "execute_result"
    }
   ],
   "source": [
    "len(all_conversations_flattened)"
   ]
  },
  {
   "cell_type": "code",
   "execution_count": 49,
   "metadata": {},
   "outputs": [
    {
     "data": {
      "text/plain": [
       "' What is the meaning of happiness?\\n '"
      ]
     },
     "execution_count": 49,
     "metadata": {},
     "output_type": "execute_result"
    }
   ],
   "source": [
    "all_conversations_flattened[0].replace('SO:', '', 1)"
   ]
  },
  {
   "cell_type": "code",
   "execution_count": 40,
   "metadata": {},
   "outputs": [],
   "source": [
    "with open('all_conversations_flattened.pkl', 'wb') as f:\n",
    "    pickle.dump(all_conversations_flattened, f)"
   ]
  },
  {
   "cell_type": "code",
   "execution_count": 41,
   "metadata": {},
   "outputs": [],
   "source": [
    "with open('all_conversations_flattened.pkl', 'rb') as f:\n",
    "    all_conversations_flattened = pickle.load(f)"
   ]
  },
  {
   "cell_type": "code",
   "execution_count": 44,
   "metadata": {},
   "outputs": [],
   "source": [
    "for conversation in all_conversations_flattened:\n",
    "    if conversation.startswith('SO:') or conversation.startswith('SS:'):\n",
    "        continue\n",
    "    else:\n",
    "        print(conversation)"
   ]
  },
  {
   "cell_type": "code",
   "execution_count": 51,
   "metadata": {},
   "outputs": [],
   "source": [
    "speaker = []\n",
    "for i, conversation in enumerate(all_conversations_flattened):\n",
    "    if conversation.startswith('SO:'):\n",
    "        speaker.append('SO')\n",
    "        all_conversations_flattened[i] = conversation.replace('SO:', '', 1)\n",
    "    elif conversation.startswith('SS:'):\n",
    "        speaker.append('SS')\n",
    "        all_conversations_flattened[i] = conversation.replace('SS:', '', 1)\n",
    "    else:\n",
    "#         This case should not occur\n",
    "        speaker.append('')"
   ]
  },
  {
   "cell_type": "code",
   "execution_count": 52,
   "metadata": {},
   "outputs": [
    {
     "data": {
      "text/plain": [
       "644"
      ]
     },
     "execution_count": 52,
     "metadata": {},
     "output_type": "execute_result"
    }
   ],
   "source": [
    "len(speaker)"
   ]
  },
  {
   "cell_type": "code",
   "execution_count": 53,
   "metadata": {},
   "outputs": [
    {
     "data": {
      "text/plain": [
       "False"
      ]
     },
     "execution_count": 53,
     "metadata": {},
     "output_type": "execute_result"
    }
   ],
   "source": [
    "'' in speaker"
   ]
  },
  {
   "cell_type": "code",
   "execution_count": 57,
   "metadata": {},
   "outputs": [
    {
     "data": {
      "text/plain": [
       "(\" Of course you will, but is it the car which is giving you\\n that happiness, which you are looking for?\\n I will feel happy when I have a new car . which means\\n if I don't, then it's a question mark. This also means that 10\\n days down the line if the car gets a little scratch or a little\\n bump, my happiness is again going to get affected because I\\n have conditioned myself into believing that it is the car which\\n is giving me happiness. Now that is not true. You buy a new\\n car - the car could be of X amount, or it could be ten times\\n the X amount; in fact, it could be the most expensive car in\\n the world. You sit in the car and it very comfortable. So who\\n is experiencing the comfort? It's the body. It's got excellent\\n seats, a great music system and a very powerful AC. There\\n is complete physical comfort. I am comfortablesitting in the\\n car and so I tell myself that I am feeling good. And just at\\n that time I get a phone call saying something unpleasant has\\n happened at home. Will I still be happy?\\n \",\n",
       " 'SS')"
      ]
     },
     "execution_count": 57,
     "metadata": {},
     "output_type": "execute_result"
    }
   ],
   "source": [
    "all_conversations_flattened[15], speaker[15]"
   ]
  },
  {
   "cell_type": "code",
   "execution_count": 71,
   "metadata": {},
   "outputs": [],
   "source": [
    "d = {'conversation': all_conversations_flattened, 'speaker': speaker, 'chapter_per_conversation': chapter_per_conversation}"
   ]
  },
  {
   "cell_type": "code",
   "execution_count": 72,
   "metadata": {},
   "outputs": [],
   "source": [
    "import pandas as pd\n",
    "df = pd.DataFrame(d)"
   ]
  },
  {
   "cell_type": "code",
   "execution_count": 73,
   "metadata": {},
   "outputs": [
    {
     "data": {
      "text/html": [
       "<div>\n",
       "<style scoped>\n",
       "    .dataframe tbody tr th:only-of-type {\n",
       "        vertical-align: middle;\n",
       "    }\n",
       "\n",
       "    .dataframe tbody tr th {\n",
       "        vertical-align: top;\n",
       "    }\n",
       "\n",
       "    .dataframe thead th {\n",
       "        text-align: right;\n",
       "    }\n",
       "</style>\n",
       "<table border=\"1\" class=\"dataframe\">\n",
       "  <thead>\n",
       "    <tr style=\"text-align: right;\">\n",
       "      <th></th>\n",
       "      <th>conversation</th>\n",
       "      <th>speaker</th>\n",
       "      <th>chapter_per_conversation</th>\n",
       "    </tr>\n",
       "  </thead>\n",
       "  <tbody>\n",
       "    <tr>\n",
       "      <th>0</th>\n",
       "      <td>What is the meaning of happiness?\\n</td>\n",
       "      <td>SO</td>\n",
       "      <td>1</td>\n",
       "    </tr>\n",
       "    <tr>\n",
       "      <th>1</th>\n",
       "      <td>Happiness is the one thing in life that every...</td>\n",
       "      <td>SS</td>\n",
       "      <td>1</td>\n",
       "    </tr>\n",
       "    <tr>\n",
       "      <th>2</th>\n",
       "      <td>We are looking for happiness as you said. But...</td>\n",
       "      <td>SO</td>\n",
       "      <td>1</td>\n",
       "    </tr>\n",
       "    <tr>\n",
       "      <th>3</th>\n",
       "      <td>We do it through different means - it could b...</td>\n",
       "      <td>SS</td>\n",
       "      <td>1</td>\n",
       "    </tr>\n",
       "    <tr>\n",
       "      <th>4</th>\n",
       "      <td>But is happiness limited or unlimited? It is ...</td>\n",
       "      <td>SO</td>\n",
       "      <td>1</td>\n",
       "    </tr>\n",
       "  </tbody>\n",
       "</table>\n",
       "</div>"
      ],
      "text/plain": [
       "                                        conversation speaker  \\\n",
       "0               What is the meaning of happiness?\\n       SO   \n",
       "1   Happiness is the one thing in life that every...      SS   \n",
       "2   We are looking for happiness as you said. But...      SO   \n",
       "3   We do it through different means - it could b...      SS   \n",
       "4   But is happiness limited or unlimited? It is ...      SO   \n",
       "\n",
       "   chapter_per_conversation  \n",
       "0                         1  \n",
       "1                         1  \n",
       "2                         1  \n",
       "3                         1  \n",
       "4                         1  "
      ]
     },
     "execution_count": 73,
     "metadata": {},
     "output_type": "execute_result"
    }
   ],
   "source": [
    "df.head()"
   ]
  },
  {
   "cell_type": "code",
   "execution_count": 74,
   "metadata": {},
   "outputs": [],
   "source": [
    "df.to_csv('happiness_unlimited.csv', index=False)"
   ]
  },
  {
   "cell_type": "code",
   "execution_count": null,
   "metadata": {},
   "outputs": [],
   "source": []
  }
 ],
 "metadata": {
  "kernelspec": {
   "display_name": "Python 3",
   "language": "python",
   "name": "python3"
  },
  "language_info": {
   "codemirror_mode": {
    "name": "ipython",
    "version": 3
   },
   "file_extension": ".py",
   "mimetype": "text/x-python",
   "name": "python",
   "nbconvert_exporter": "python",
   "pygments_lexer": "ipython3",
   "version": "3.6.7"
  }
 },
 "nbformat": 4,
 "nbformat_minor": 2
}
